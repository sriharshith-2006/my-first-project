{
 "cells": [
  {
   "cell_type": "code",
   "execution_count": 1,
   "id": "b51bcce8",
   "metadata": {},
   "outputs": [
    {
     "name": "stdout",
     "output_type": "stream",
     "text": [
      "Hello\n"
     ]
    }
   ],
   "source": [
    "print(\"Hello\")"
   ]
  },
  {
   "cell_type": "code",
   "execution_count": 5,
   "id": "884eee1c",
   "metadata": {},
   "outputs": [
    {
     "name": "stdout",
     "output_type": "stream",
     "text": [
      "Random number: 16\n"
     ]
    }
   ],
   "source": [
    "import random\n",
    "print(f\"Random number: {random.randint(1,100)}\")\n"
   ]
  },
  {
   "cell_type": "code",
   "execution_count": 9,
   "id": "e9bb5c6a",
   "metadata": {},
   "outputs": [
    {
     "name": "stdout",
     "output_type": "stream",
     "text": [
      "   November 2025\n",
      "Mo Tu We Th Fr Sa Su\n",
      "                1  2\n",
      " 3  4  5  6  7  8  9\n",
      "10 11 12 13 14 15 16\n",
      "17 18 19 20 21 22 23\n",
      "24 25 26 27 28 29 30\n",
      "\n"
     ]
    }
   ],
   "source": [
    "import calendar\n",
    "year=int(input(\"Enter year:\"))\n",
    "month=int(input(\"Enter month:\"))\n",
    "cal=calendar.month(year,month)\n",
    "print(cal)\n"
   ]
  },
  {
   "cell_type": "code",
   "execution_count": null,
   "id": "55cdecc0",
   "metadata": {},
   "outputs": [],
   "source": [
    "import math\n",
    "a=float(input(\"Enter coefficient a:\"))\n",
    "b=float(input(\"Enter coefficient b:\"))\n",
    "c=float(input(\"Enter coefficient c:\"))\n",
    "discriminant=b**2-4*a*c\n",
    "if discriminant>0\n",
    "    root1=(-b+math.sqrt(discriminant))/(2*a)\n",
    "    root2=(-b-math.sqrt(discriminant))/(2*a)\n",
    "    print(f\"Roots are real and different:{root1} and {root2}\")"
   ]
  },
  {
   "cell_type": "code",
   "execution_count": 10,
   "id": "576d0258",
   "metadata": {},
   "outputs": [
    {
     "name": "stdout",
     "output_type": "stream",
     "text": [
      "5 is a prime number\n"
     ]
    }
   ],
   "source": [
    "num=int(input(\"Enter a number:\"))\n",
    "flag=False\n",
    "for i in range(2,num):\n",
    "    if num%i==0:\n",
    "        flag=True\n",
    "        break\n",
    "if flag:\n",
    "    print(f\"{num} is not a prime number\")\n",
    "else:\n",
    "    print(f\"{num} is a prime number\")   "
   ]
  },
  {
   "cell_type": "code",
   "execution_count": 15,
   "id": "1fad4f6a",
   "metadata": {},
   "outputs": [
    {
     "name": "stdout",
     "output_type": "stream",
     "text": [
      "2\n",
      "3\n",
      "5\n",
      "7\n"
     ]
    }
   ],
   "source": [
    "for num in range(1,11):\n",
    "    if num>1:\n",
    "        for i in range(2,num):\n",
    "             if (num%i)==0:\n",
    "                 break\n",
    "        else:\n",
    "            print(num)"
   ]
  },
  {
   "cell_type": "code",
   "execution_count": 16,
   "id": "b8f27fd6",
   "metadata": {},
   "outputs": [
    {
     "name": "stdout",
     "output_type": "stream",
     "text": [
      "0\n",
      "1\n",
      "1\n",
      "2\n",
      "3\n",
      "5\n",
      "8\n",
      "13\n",
      "21\n",
      "34\n"
     ]
    }
   ],
   "source": [
    "n=int(input(\"Enter number of terms:\"))\n",
    "n1,n2=0,1\n",
    "count=0\n",
    "while count<n:\n",
    "    print(n1)\n",
    "    nth=n1+n2\n",
    "    n1=n2\n",
    "    n2=nth\n",
    "    count+=1\n"
   ]
  },
  {
   "cell_type": "code",
   "execution_count": null,
   "id": "8f5695d2",
   "metadata": {},
   "outputs": [],
   "source": [
    "import math\n",
    "num=int(input(\"Enter a number\"))\n",
    "sum=0\n",
    "length=len(str(num))\n",
    "temp=num\n",
    "while num>0:\n",
    "    digit=temp%10\n",
    "    sum=math.pow(digit,length)\n",
    "    temp=temp/10\n",
    "if sum==num:\n",
    "    print(f\"{num} is an armstrong number\")\n",
    "else:\n",
    "    print(f\"{num} is not an armstrong number\")"
   ]
  },
  {
   "cell_type": "code",
   "execution_count": null,
   "id": "e0cdbe44",
   "metadata": {},
   "outputs": [],
   "source": [
    "import math\n",
    "num=int(input(\"Enter a number\"))\n",
    "sum=0\n",
    "length=len(str(num))\n",
    "temp=num\n",
    "while num>0:\n",
    "    digit=temp%10\n",
    "    sum=math.pow(digit,length)\n",
    "    temp=temp/10\n",
    "if sum==num:\n",
    "    print(f\"{num} is an armstrong number\")\n",
    "else:\n",
    "    print(f\"{num} is not an armstrong number\")"
   ]
  },
  {
   "cell_type": "code",
   "execution_count": 2,
   "id": "1f5893ee",
   "metadata": {},
   "outputs": [
    {
     "name": "stdout",
     "output_type": "stream",
     "text": [
      "60\n"
     ]
    }
   ],
   "source": [
    "def lcm(x,y):\n",
    "    greater=max(x,y)\n",
    "    while True:\n",
    "        if greater%x==0 and greater%y==0:\n",
    "            return greater\n",
    "        greater+=1\n",
    "\n",
    "print(lcm(12,15))"
   ]
  },
  {
   "cell_type": "code",
   "execution_count": 4,
   "id": "cd1c62fc",
   "metadata": {},
   "outputs": [
    {
     "name": "stdout",
     "output_type": "stream",
     "text": [
      "3\n"
     ]
    }
   ],
   "source": [
    "def hcf(a,b):\n",
    "    while True:\n",
    "        if a%b==0:\n",
    "            return b\n",
    "        a,b=b,a%b\n",
    "print(hcf(15,12))"
   ]
  },
  {
   "cell_type": "code",
   "execution_count": 6,
   "id": "b605fc15",
   "metadata": {},
   "outputs": [
    {
     "name": "stdout",
     "output_type": "stream",
     "text": [
      "[5, 1, 2, 3, 4]\n"
     ]
    }
   ],
   "source": [
    "def rotate(arr,k):\n",
    "    n=len(arr)\n",
    "    k=k%n\n",
    "    return arr[-k:]+arr[:-k]\n",
    "print(rotate([1,2,3,4,5],1))"
   ]
  },
  {
   "cell_type": "code",
   "execution_count": 7,
   "id": "1ff3549e",
   "metadata": {},
   "outputs": [
    {
     "name": "stdout",
     "output_type": "stream",
     "text": [
      "True\n"
     ]
    }
   ],
   "source": [
    "def monotonic(arr):\n",
    "    for i in range(len(arr)-1):\n",
    "        if(arr[i]>arr[i+1]):\n",
    "            return False\n",
    "    return True\n",
    "print(monotonic([1,2,2,3]))"
   ]
  },
  {
   "cell_type": "code",
   "execution_count": 14,
   "id": "5f8f4017",
   "metadata": {},
   "outputs": [
    {
     "name": "stdout",
     "output_type": "stream",
     "text": [
      "['abc', 'heelo', 'namstw', 'vankam']\n"
     ]
    }
   ],
   "source": [
    "string=str(input(\"Enter a string:\"))\n",
    "list1=string.split(\" \")\n",
    "list1.sort()\n",
    "print(list1)\n"
   ]
  },
  {
   "cell_type": "code",
   "execution_count": 16,
   "id": "0978d102",
   "metadata": {},
   "outputs": [
    {
     "name": "stderr",
     "output_type": "stream",
     "text": [
      "<>:1: SyntaxWarning: invalid escape sequence '\\,'\n",
      "<>:1: SyntaxWarning: invalid escape sequence '\\,'\n",
      "C:\\Users\\SRIHARSHITH\\AppData\\Local\\Temp\\ipykernel_41652\\3317697105.py:1: SyntaxWarning: invalid escape sequence '\\,'\n",
      "  punctuations='''!()-[]{};:'\"\\,<>./?@#$%^&*_~'''\n"
     ]
    },
    {
     "name": "stdout",
     "output_type": "stream",
     "text": [
      "hello   said"
     ]
    }
   ],
   "source": [
    "punctuations='''!()-[]{};:'\"\\,<>./?@#$%^&*_~'''\n",
    "string=input(\"Enter a string:\")\n",
    "for char in string:\n",
    "    if char not in punctuations:\n",
    "        print(char,end=\"\")\n",
    "        \n"
   ]
  },
  {
   "cell_type": "code",
   "execution_count": null,
   "id": "11dfeebc",
   "metadata": {},
   "outputs": [
    {
     "name": "stdout",
     "output_type": "stream",
     "text": [
      "19 is a happy number\n"
     ]
    }
   ],
   "source": [
    "num=int(input(\"Enter a number:\"))\n",
    "def is_happy(num):\n",
    "    seen=set()\n",
    "    while num!=1 and num not in seen:\n",
    "        seen.add(num)\n",
    "        num=sum(int(i)**2 for i in str(num))\n",
    "    return num==1\n",
    "if is_happy(num):\n",
    "    print(f\"{num} is a happy number\")\n",
    "else:\n",
    "    print(f\"{num} is not a happy number\")   \n"
   ]
  },
  {
   "cell_type": "code",
   "execution_count": null,
   "id": "7bcebb01",
   "metadata": {},
   "outputs": [],
   "source": []
  },
  {
   "cell_type": "code",
   "execution_count": null,
   "id": "260a34d0",
   "metadata": {},
   "outputs": [],
   "source": []
  },
  {
   "cell_type": "code",
   "execution_count": null,
   "id": "fa52781c",
   "metadata": {},
   "outputs": [],
   "source": []
  },
  {
   "cell_type": "code",
   "execution_count": null,
   "id": "bede374c",
   "metadata": {},
   "outputs": [],
   "source": []
  },
  {
   "cell_type": "code",
   "execution_count": null,
   "id": "30b2d534",
   "metadata": {},
   "outputs": [],
   "source": [
    "num=int((input(\"Enter a number:\")))\n",
    "digits=0\n",
    "temp=num\n",
    "while num>0:\n",
    "    digits+=1\n",
    "    temp//=10\n",
    "total=0\n",
    "temp=num\n",
    "while temp>0:\n",
    "    digit=temp%10\n",
    "    total=digit**digits\n",
    "    digits=digits-1\n",
    "    temp//=10\n",
    "if total==num:\n",
    "    print(f\"{num} is a special number\")\n",
    "else:\n",
    "    print(f\"{num} is not a special number\")"
   ]
  }
 ],
 "metadata": {
  "kernelspec": {
   "display_name": "base",
   "language": "python",
   "name": "python3"
  },
  "language_info": {
   "codemirror_mode": {
    "name": "ipython",
    "version": 3
   },
   "file_extension": ".py",
   "mimetype": "text/x-python",
   "name": "python",
   "nbconvert_exporter": "python",
   "pygments_lexer": "ipython3",
   "version": "3.12.7"
  }
 },
 "nbformat": 4,
 "nbformat_minor": 5
}
